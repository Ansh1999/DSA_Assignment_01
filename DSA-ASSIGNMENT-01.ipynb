{
 "cells": [
  {
   "cell_type": "markdown",
   "id": "288420dd",
   "metadata": {},
   "source": [
    "**Q1)**\n",
    "💡 Given an array of integers nums and an integer target, return indices of the two numbers such that they add up to target.\n",
    "\n",
    "You may assume that each input would have exactly one solution, and you may not use the same element twice.\n",
    "\n",
    "You can return the answer in any order.\n",
    "\n",
    "**Example:**\n",
    "Input: nums = [2,7,11,15],<br> target = 9<br>\n",
    "Output0 [0,1]\n"
   ]
  },
  {
   "cell_type": "code",
   "execution_count": 1,
   "id": "db156774",
   "metadata": {},
   "outputs": [
    {
     "data": {
      "text/plain": [
       "[0, 1]"
      ]
     },
     "execution_count": 1,
     "metadata": {},
     "output_type": "execute_result"
    }
   ],
   "source": [
    "def twoSum(nums, target: int):\n",
    "    c=[]\n",
    "    for i in range(len(nums)):\n",
    "        for j in range(len(nums)):\n",
    "            if i!=j:\n",
    "                if nums[i]+nums[j]==target:\n",
    "                    c.extend([i,j])\n",
    "                    break\n",
    "            else:\n",
    "                continue\n",
    "        if len(c)!=0:\n",
    "            break\n",
    "    return c\n",
    "\n",
    "twoSum([2,7,11,15],9)"
   ]
  },
  {
   "cell_type": "markdown",
   "id": "371e4f4c",
   "metadata": {},
   "source": [
    "\n",
    "💡 **Q2.** Given an integer array nums and an integer val, remove all occurrences of val in nums in-place. The order of the elements may be changed. Then return the number of elements in nums which are not equal to val.\n",
    "\n",
    "Consider the number of elements in nums which are not equal to val be k, to get accepted, you need to do the following things:\n",
    "\n",
    "- Change the array nums such that the first k elements of nums contain the elements which are not equal to val. The remaining elements of nums are not important as well as the size of nums.\n",
    "- Return k.\n",
    "\n",
    "**Example :**\n",
    "Input: nums = [3,2,2,3], val = 3<br>\n",
    "Output: 2, nums = [2,2,,]\n",
    "\n",
    "**Explanation:** Your function should return k = 2, with the first two elements of nums being 2. It does not matter what you leave beyond the returned k (hence they are underscores)["
   ]
  },
  {
   "cell_type": "code",
   "execution_count": 13,
   "id": "7eb1cb9b",
   "metadata": {},
   "outputs": [],
   "source": [
    "def remove(nums, val) -> int:\n",
    "        index=0\n",
    "        for i in range(len(nums)):\n",
    "            if nums[i]!=val:\n",
    "                nums.insert(index,nums[i])\n",
    "                nums.pop(i+1)\n",
    "                index+=1  \n",
    "        k=len(nums)-nums.count(val)       \n",
    "        return k"
   ]
  },
  {
   "cell_type": "code",
   "execution_count": 15,
   "id": "b1540a99",
   "metadata": {},
   "outputs": [
    {
     "data": {
      "text/plain": [
       "2"
      ]
     },
     "execution_count": 15,
     "metadata": {},
     "output_type": "execute_result"
    }
   ],
   "source": [
    "remove([3,2,2,3],2)"
   ]
  },
  {
   "cell_type": "code",
   "execution_count": 16,
   "id": "30fb4943",
   "metadata": {},
   "outputs": [
    {
     "data": {
      "text/plain": [
       "7"
      ]
     },
     "execution_count": 16,
     "metadata": {},
     "output_type": "execute_result"
    }
   ],
   "source": [
    "remove([0,1,2,5,0,5,7,4,2],5)"
   ]
  },
  {
   "cell_type": "markdown",
   "id": "a21e6beb",
   "metadata": {},
   "source": [
    "\n",
    "**Q3.** Given a sorted array of distinct integers and a target value, return the index if the target is found. If not, return the index where it would be if it were inserted in order.\n",
    "\n",
    "You must write an algorithm with O(log n) runtime complexity.\n",
    "\n",
    "**Example 1:**\n",
    "Input: nums = [1,3,5,6],<br> target = 5\n",
    "\n",
    "Output: 2\n",
    "\n"
   ]
  },
  {
   "cell_type": "code",
   "execution_count": 2,
   "id": "fd4134b9",
   "metadata": {},
   "outputs": [],
   "source": [
    "def return_index(sorted_array,num):\n",
    "    l=sorted(sorted_array)  # incase sorted array is not given\n",
    "    if num in l:\n",
    "        return l.index(num)\n",
    "    elif num<min(l):\n",
    "        return 0\n",
    "    else:\n",
    "        while 1:\n",
    "            num-=1\n",
    "            if num in l:\n",
    "                index=l.index(num)\n",
    "                break\n",
    "        return index+1"
   ]
  },
  {
   "cell_type": "code",
   "execution_count": 3,
   "id": "0889d780",
   "metadata": {},
   "outputs": [
    {
     "data": {
      "text/plain": [
       "2"
      ]
     },
     "execution_count": 3,
     "metadata": {},
     "output_type": "execute_result"
    }
   ],
   "source": [
    "return_index([1,3,5,6],5)"
   ]
  },
  {
   "cell_type": "markdown",
   "id": "528e7fa1",
   "metadata": {},
   "source": [
    "\n",
    "💡 **Q4.** You are given a large integer represented as an integer array digits, where each digits[i] is the ith digit of the integer. The digits are ordered from most significant to least significant in left-to-right order. The large integer does not contain any leading 0's.\n",
    "\n",
    "Increment the large integer by one and return the resulting array of digits.\n",
    "\n",
    "**Example 1:**\n",
    "Input: digits = [1,2,3]<br>\n",
    "Output: [1,2,4]\n",
    "\n",
    "**Explanation:** The array represents the integer 123.\n",
    "\n",
    "Incrementing by one gives 123 + 1 = 124.\n",
    "Thus, the result should be [1,2,4].\n"
   ]
  },
  {
   "cell_type": "code",
   "execution_count": 4,
   "id": "07a34029",
   "metadata": {},
   "outputs": [],
   "source": [
    "def large_integer(array):\n",
    "    s=''\n",
    "    for i in array:\n",
    "        s+=str(i)\n",
    "    integer=int(s)+1\n",
    "    return list(map(int,str(integer)))"
   ]
  },
  {
   "cell_type": "code",
   "execution_count": 5,
   "id": "e0b63292",
   "metadata": {},
   "outputs": [
    {
     "data": {
      "text/plain": [
       "[1, 2, 4]"
      ]
     },
     "execution_count": 5,
     "metadata": {},
     "output_type": "execute_result"
    }
   ],
   "source": [
    "large_integer([1,2,3])"
   ]
  },
  {
   "cell_type": "markdown",
   "id": "800654d3",
   "metadata": {},
   "source": [
    "\n",
    "💡 **Q5.** You are given two integer arrays nums1 and nums2, sorted in non-decreasing order, and two integers m and n, representing the number of elements in nums1 and nums2 respectively.\n",
    "\n",
    "Merge nums1 and nums2 into a single array sorted in non-decreasing order.\n",
    "\n",
    "The final sorted array should not be returned by the function, but instead be stored inside the array nums1. To accommodate this, nums1 has a length of m + n, where the first m elements denote the elements that should be merged, and the last n elements are set to 0 and should be ignored. nums2 has a length of n.\n",
    "\n",
    "**Example 1:**\n",
    "Input: nums1 = [1,2,3,0,0,0], m = 3, nums2 = [2,5,6], n = 3<br>\n",
    "Output: [1,2,2,3,5,6]\n",
    "\n",
    "**Explanation:** The arrays we are merging are [1,2,3] and [2,5,6].<br>\n",
    "The result of the merge is [1,2,2,3,5,6] with the underlined elements coming from nums1\n"
   ]
  },
  {
   "cell_type": "code",
   "execution_count": 17,
   "id": "4baa45a1",
   "metadata": {},
   "outputs": [],
   "source": [
    "def merge(nums1, m, nums2, n) -> None:\n",
    "    nums1=nums1[0:m]\n",
    "    for i in nums2:\n",
    "        nums1.append(i)\n",
    "    nums1=nums1.sort()"
   ]
  },
  {
   "cell_type": "code",
   "execution_count": 18,
   "id": "ff766620",
   "metadata": {},
   "outputs": [],
   "source": [
    "merge(nums1 = [1,2,3,0,0,0], m = 3, nums2 = [2,5,6], n = 3)"
   ]
  },
  {
   "cell_type": "markdown",
   "id": "3d0c145c",
   "metadata": {},
   "source": [
    "\n",
    "💡 **Q6.** Given an integer array nums, return true if any value appears at least twice in the array, and return false if every element is distinct.\n",
    "\n",
    "**Example 1:**\n",
    "Input: nums = [1,2,3,1]\n",
    "\n",
    "Output: true"
   ]
  },
  {
   "cell_type": "code",
   "execution_count": 8,
   "id": "a8863599",
   "metadata": {},
   "outputs": [],
   "source": [
    "def distinct(nums):\n",
    "    count=0\n",
    "    for i in range(len(nums)):\n",
    "        for j in range(i+1,len(nums)):\n",
    "            if nums[i]==nums[j]:\n",
    "                count+=1\n",
    "    if count!=0:\n",
    "        return True\n",
    "    else:\n",
    "        return False"
   ]
  },
  {
   "cell_type": "code",
   "execution_count": 9,
   "id": "71595b7f",
   "metadata": {},
   "outputs": [
    {
     "data": {
      "text/plain": [
       "True"
      ]
     },
     "execution_count": 9,
     "metadata": {},
     "output_type": "execute_result"
    }
   ],
   "source": [
    "distinct([1,2,3,1])"
   ]
  },
  {
   "cell_type": "markdown",
   "id": "3d2e7879",
   "metadata": {},
   "source": [
    "\n",
    "💡 **Q7.** Given an integer array nums, move all 0's to the end of it while maintaining the relative order of the nonzero elements.\n",
    "\n",
    "Note that you must do this in-place without making a copy of the array.\n",
    "\n",
    "**Example 1:**\n",
    "Input: nums = [0,1,0,3,12]<br>\n",
    "Output: [1,3,12,0,0]\n"
   ]
  },
  {
   "cell_type": "code",
   "execution_count": 10,
   "id": "bd24e255",
   "metadata": {},
   "outputs": [],
   "source": [
    "def move_zeroes(nums):\n",
    "    index=0\n",
    "    for i in range(len(nums)):\n",
    "        if nums[i]!=0:\n",
    "            nums.insert(index,nums[i])\n",
    "            nums.pop(i+1)\n",
    "            index+=1         \n",
    "    return nums"
   ]
  },
  {
   "cell_type": "code",
   "execution_count": 11,
   "id": "18ecb898",
   "metadata": {},
   "outputs": [
    {
     "data": {
      "text/plain": [
       "[1, 3, 12, 0, 0]"
      ]
     },
     "execution_count": 11,
     "metadata": {},
     "output_type": "execute_result"
    }
   ],
   "source": [
    "move_zeroes([0,1,0,3,12])"
   ]
  },
  {
   "cell_type": "markdown",
   "id": "7422dc83",
   "metadata": {},
   "source": [
    "\n",
    "💡 **Q8.** You have a set of integers s, which originally contains all the numbers from 1 to n. Unfortunately, due to some error, one of the numbers in s got duplicated to another number in the set, which results in repetition of one number and loss of another number.\n",
    "\n",
    "You are given an integer array nums representing the data status of this set after the error.\n",
    "\n",
    "Find the number that occurs twice and the number that is missing and return them in the form of an array.\n",
    "\n",
    "**Example 1:**\n",
    "Input: nums = [1,2,2,4]<br>\n",
    "Output: [2,3]\n"
   ]
  },
  {
   "cell_type": "code",
   "execution_count": null,
   "id": "ca6369a4",
   "metadata": {},
   "outputs": [],
   "source": [
    "def\n",
    "    l=[]\n",
    "    for i in nums:\n",
    "        if nums.count(i)>1:\n",
    "            l.append(i)\n",
    "            break\n",
    "\n",
    "    for j in range(1,len(nums)):\n",
    "        if j not in set(nums) and nums!=[1,1]:\n",
    "            l.append(j)\n",
    "            break\n",
    "                \n",
    "    if nums==[1,1]:\n",
    "        l.append(2)\n",
    "    elif len(l)==1 and l[0]!=1:\n",
    "        l.append(max(nums)+1)\n",
    "    return l"
   ]
  },
  {
   "cell_type": "code",
   "execution_count": null,
   "id": "9d73ccd9",
   "metadata": {},
   "outputs": [],
   "source": []
  },
  {
   "cell_type": "code",
   "execution_count": null,
   "id": "b217451c",
   "metadata": {},
   "outputs": [],
   "source": []
  }
 ],
 "metadata": {
  "kernelspec": {
   "display_name": "Python 3 (ipykernel)",
   "language": "python",
   "name": "python3"
  },
  "language_info": {
   "codemirror_mode": {
    "name": "ipython",
    "version": 3
   },
   "file_extension": ".py",
   "mimetype": "text/x-python",
   "name": "python",
   "nbconvert_exporter": "python",
   "pygments_lexer": "ipython3",
   "version": "3.9.13"
  }
 },
 "nbformat": 4,
 "nbformat_minor": 5
}
